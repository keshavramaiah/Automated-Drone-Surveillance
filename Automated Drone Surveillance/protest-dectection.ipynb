{
 "cells": [
  {
   "cell_type": "code",
   "execution_count": 1,
   "metadata": {
    "_cell_guid": "b1076dfc-b9ad-4769-8c92-a6c4dae69d19",
    "_uuid": "8f2839f25d086af736a60e9eeb907d3b93b6e0e5"
   },
   "outputs": [
    {
     "name": "stderr",
     "output_type": "stream",
     "text": [
      "Using TensorFlow backend.\n",
      "/opt/conda/lib/python3.6/site-packages/tensorflow/python/framework/dtypes.py:516: FutureWarning: Passing (type, 1) or '1type' as a synonym of type is deprecated; in a future version of numpy, it will be understood as (type, (1,)) / '(1,)type'.\n",
      "  _np_qint8 = np.dtype([(\"qint8\", np.int8, 1)])\n",
      "/opt/conda/lib/python3.6/site-packages/tensorflow/python/framework/dtypes.py:517: FutureWarning: Passing (type, 1) or '1type' as a synonym of type is deprecated; in a future version of numpy, it will be understood as (type, (1,)) / '(1,)type'.\n",
      "  _np_quint8 = np.dtype([(\"quint8\", np.uint8, 1)])\n",
      "/opt/conda/lib/python3.6/site-packages/tensorflow/python/framework/dtypes.py:518: FutureWarning: Passing (type, 1) or '1type' as a synonym of type is deprecated; in a future version of numpy, it will be understood as (type, (1,)) / '(1,)type'.\n",
      "  _np_qint16 = np.dtype([(\"qint16\", np.int16, 1)])\n",
      "/opt/conda/lib/python3.6/site-packages/tensorflow/python/framework/dtypes.py:519: FutureWarning: Passing (type, 1) or '1type' as a synonym of type is deprecated; in a future version of numpy, it will be understood as (type, (1,)) / '(1,)type'.\n",
      "  _np_quint16 = np.dtype([(\"quint16\", np.uint16, 1)])\n",
      "/opt/conda/lib/python3.6/site-packages/tensorflow/python/framework/dtypes.py:520: FutureWarning: Passing (type, 1) or '1type' as a synonym of type is deprecated; in a future version of numpy, it will be understood as (type, (1,)) / '(1,)type'.\n",
      "  _np_qint32 = np.dtype([(\"qint32\", np.int32, 1)])\n",
      "/opt/conda/lib/python3.6/site-packages/tensorflow/python/framework/dtypes.py:525: FutureWarning: Passing (type, 1) or '1type' as a synonym of type is deprecated; in a future version of numpy, it will be understood as (type, (1,)) / '(1,)type'.\n",
      "  np_resource = np.dtype([(\"resource\", np.ubyte, 1)])\n",
      "/opt/conda/lib/python3.6/site-packages/tensorboard/compat/tensorflow_stub/dtypes.py:541: FutureWarning: Passing (type, 1) or '1type' as a synonym of type is deprecated; in a future version of numpy, it will be understood as (type, (1,)) / '(1,)type'.\n",
      "  _np_qint8 = np.dtype([(\"qint8\", np.int8, 1)])\n",
      "/opt/conda/lib/python3.6/site-packages/tensorboard/compat/tensorflow_stub/dtypes.py:542: FutureWarning: Passing (type, 1) or '1type' as a synonym of type is deprecated; in a future version of numpy, it will be understood as (type, (1,)) / '(1,)type'.\n",
      "  _np_quint8 = np.dtype([(\"quint8\", np.uint8, 1)])\n",
      "/opt/conda/lib/python3.6/site-packages/tensorboard/compat/tensorflow_stub/dtypes.py:543: FutureWarning: Passing (type, 1) or '1type' as a synonym of type is deprecated; in a future version of numpy, it will be understood as (type, (1,)) / '(1,)type'.\n",
      "  _np_qint16 = np.dtype([(\"qint16\", np.int16, 1)])\n",
      "/opt/conda/lib/python3.6/site-packages/tensorboard/compat/tensorflow_stub/dtypes.py:544: FutureWarning: Passing (type, 1) or '1type' as a synonym of type is deprecated; in a future version of numpy, it will be understood as (type, (1,)) / '(1,)type'.\n",
      "  _np_quint16 = np.dtype([(\"quint16\", np.uint16, 1)])\n",
      "/opt/conda/lib/python3.6/site-packages/tensorboard/compat/tensorflow_stub/dtypes.py:545: FutureWarning: Passing (type, 1) or '1type' as a synonym of type is deprecated; in a future version of numpy, it will be understood as (type, (1,)) / '(1,)type'.\n",
      "  _np_qint32 = np.dtype([(\"qint32\", np.int32, 1)])\n",
      "/opt/conda/lib/python3.6/site-packages/tensorboard/compat/tensorflow_stub/dtypes.py:550: FutureWarning: Passing (type, 1) or '1type' as a synonym of type is deprecated; in a future version of numpy, it will be understood as (type, (1,)) / '(1,)type'.\n",
      "  np_resource = np.dtype([(\"resource\", np.ubyte, 1)])\n"
     ]
    }
   ],
   "source": [
    "import numpy as np\n",
    "import pandas as pd\n",
    "import matplotlib.pyplot as plt\n",
    "from keras.layers import Activation,Dropout,Dense,Conv2D,AveragePooling2D,Flatten,ZeroPadding2D,MaxPooling2D,Convolution2D,MaxPooling2D\n",
    "from keras import optimizers\n",
    "from sklearn.model_selection import train_test_split\n",
    "from keras.models import Sequential\n",
    "import seaborn as sns\n",
    "from sklearn.metrics import accuracy_score\n",
    "from keras.utils.np_utils import to_categorical\n",
    "from keras.preprocessing.image import img_to_array\n",
    "from keras.preprocessing.image import load_img\n",
    "import math\n",
    "import cv2\n",
    "import imageio\n",
    "from os import listdir\n",
    "import warnings\n",
    "import filecmp\n",
    "from PIL import Image\n",
    "import numpy as np\n",
    "import pandas as pd\n",
    "import os\n",
    "import cv2\n",
    "import PIL\n",
    "import gc\n",
    "import psutil\n",
    "import matplotlib.pyplot as plt\n",
    "from sklearn.model_selection import train_test_split\n",
    "from tensorflow import set_random_seed\n",
    "from tqdm import tqdm\n",
    "from math import ceil\n",
    "import math\n",
    "import sys\n",
    "import gc\n",
    "\n",
    "import keras\n",
    "from keras.preprocessing.image import ImageDataGenerator, load_img, array_to_img, img_to_array\n",
    "from keras.models import Sequential, Model\n",
    "from keras.applications.resnet50 import ResNet50, preprocess_input\n",
    "from keras.layers import Conv2D, MaxPooling2D, GlobalAveragePooling2D, Input\n",
    "from keras.layers import Dropout, Flatten, Dense\n",
    "from keras.callbacks import ModelCheckpoint, EarlyStopping, ReduceLROnPlateau\n",
    "from keras.activations import softmax, relu, elu\n",
    "from keras.optimizers import Adam, rmsprop, RMSprop   ,SGD\n",
    "from keras.layers import BatchNormalization, LeakyReLU\n",
    "from tqdm import tqdm"
   ]
  },
  {
   "cell_type": "code",
   "execution_count": 2,
   "metadata": {
    "_cell_guid": "79c7e3d0-c299-4dcb-8224-4455121ee9b0",
    "_uuid": "d629ff2d2480ee46fbb7e2d37f6b5fab8052498a"
   },
   "outputs": [],
   "source": [
    "listdir('../input/ucla-protest-dataset/test/test/')\n",
    "basepath1='../input/ucla-protest-dataset/train1/train1/'\n",
    "basepath2='../input/ucla-protest-dataset/train2/train2/'\n",
    "basepath3='../input/ucla-protest-dataset/train3/train3/'\n",
    "testbase='../input/ucla-protest-dataset/test/test/'\n",
    "annot_train=pd.read_csv('../input/ucla-protest-dataset/annot_train - annot_train.csv')\n",
    "annot_test=pd.read_csv('../input/ucla-protest-dataset/test csv.csv')"
   ]
  },
  {
   "cell_type": "code",
   "execution_count": 3,
   "metadata": {},
   "outputs": [],
   "source": [
    "annot_train=annot_train.replace(\"-\",0)\n",
    "annot_test=annot_test.replace(\"-\",0)"
   ]
  },
  {
   "cell_type": "code",
   "execution_count": 4,
   "metadata": {},
   "outputs": [
    {
     "name": "stdout",
     "output_type": "stream",
     "text": [
      "Fri Sep  6 14:51:35 2019\n",
      "Fri Sep  6 14:53:31 2019\n",
      "Fri Sep  6 14:54:52 2019\n",
      "Fri Sep  6 14:56:21 2019\n",
      "Fri Sep  6 14:57:39 2019\n"
     ]
    }
   ],
   "source": [
    "from time import ctime\n",
    "import sys\n",
    "print(ctime())\n",
    "train=[]\n",
    "test=[]\n",
    "label=[]\n",
    "label2=[]\n",
    "i=0\n",
    "j=0\n",
    "for file in listdir(basepath1):\n",
    "    filepath=basepath1+file\n",
    "    if(file.endswith('.jpg') or file.endswith('.png') or file.endswith('.jpeg') ):\n",
    "        if(annot_train[annot_train.fname==file]['protest'].all()==0 and j<9300):\n",
    "            image = imageio.imread(filepath)\n",
    "            image=cv2.resize(image,(50,50))\n",
    "            image=image/255\n",
    "            train.append(image)\n",
    "            i+=1\n",
    "            j+=1\n",
    "            label.append(0)\n",
    "        elif(annot_train[annot_train.fname==file]['protest'].all()==1):\n",
    "            image = imageio.imread(filepath)\n",
    "            image=cv2.resize(image,(50,50))\n",
    "            image=image/255\n",
    "            train.append(image)\n",
    "            i+=1\n",
    "            label.append(1)\n",
    "        else:\n",
    "            i+=1\n",
    "            \n",
    "print(ctime())\n",
    "for file in listdir(basepath2):\n",
    "    filepath=basepath2+file\n",
    "    if(file.endswith('.jpg') or file.endswith('.png') or file.endswith('.jpeg') ):\n",
    "        if(annot_train[annot_train.fname==file]['protest'].all()==0 and j<9300):\n",
    "            image = imageio.imread(filepath)\n",
    "            image=cv2.resize(image,(50,50))\n",
    "            image=image/255\n",
    "            train.append(image)\n",
    "            i+=1\n",
    "            j+=1\n",
    "            label.append(0)\n",
    "        elif(annot_train[annot_train.fname==file]['protest'].all()==1):\n",
    "            image = imageio.imread(filepath)\n",
    "            image=cv2.resize(image,(50,50))\n",
    "            image=image/255\n",
    "            train.append(image)\n",
    "            i+=1\n",
    "            label.append(1)\n",
    "        else:\n",
    "            i+=1\n",
    "        \n",
    "print(ctime())\n",
    "\n",
    "for file in listdir(basepath3):\n",
    "    filepath=basepath3+file\n",
    "    if(file.endswith('.jpg') or file.endswith('.png') or file.endswith('.jpeg') ):\n",
    "        if(annot_train[annot_train.fname==file]['violence'].all()==0 and j<9300):\n",
    "            image = imageio.imread(filepath)\n",
    "            image=cv2.resize(image,(50,50))\n",
    "            image=image/255\n",
    "            train.append(image)\n",
    "            i+=1\n",
    "            j+=1\n",
    "            label.append(0)\n",
    "        elif(annot_train[annot_train.fname==file]['protest'].all()==1):\n",
    "            image = imageio.imread(filepath)\n",
    "            image=cv2.resize(image,(50,50))\n",
    "            image=image/255\n",
    "            train.append(image)\n",
    "            i+=1\n",
    "            label.append(1)\n",
    "        else:\n",
    "            i+=1\n",
    "        \n",
    "print(ctime())\n",
    "for file in listdir(testbase):\n",
    "    filepath=testbase+file\n",
    "    if(file.endswith('.jpg') or file.endswith('.png') or file.endswith('.jpeg') ):\n",
    "        if(annot_test[annot_test.fname==file]['protest'].all()==0):\n",
    "            image = imageio.imread(filepath)\n",
    "            image=cv2.resize(image,(50,50))\n",
    "            image=image/255\n",
    "            test.append(image)\n",
    "            label2.append(0)\n",
    "        else:\n",
    "            image = imageio.imread(filepath)\n",
    "            image=cv2.resize(image,(50,50))\n",
    "            image=image/255\n",
    "            test.append(image)\n",
    "            label2.append(1)\n",
    "            \n",
    "        \n",
    "print(ctime())\n"
   ]
  },
  {
   "cell_type": "code",
   "execution_count": 5,
   "metadata": {},
   "outputs": [
    {
     "name": "stderr",
     "output_type": "stream",
     "text": [
      "/opt/conda/lib/python3.6/site-packages/keras_applications/resnet50.py:265: UserWarning: The output shape of `ResNet50(include_top=False)` has been changed since Keras 2.2.0.\n",
      "  warnings.warn('The output shape of `ResNet50(include_top=False)` '\n"
     ]
    }
   ],
   "source": [
    "def create_resnet(img_dim, CHANNEL, n_class):\n",
    "    input_tensor = Input(shape=(img_dim, img_dim, CHANNEL))\n",
    "\n",
    "    base_model = ResNet50(weights=None, include_top=False, input_tensor=input_tensor)\n",
    "    base_model.load_weights('../input/resnet50weightsfile/resnet50_weights_tf_dim_ordering_tf_kernels_notop.h5')\n",
    "#     base_model.load_weights('../input/restnet101/resnet101_weights_tf.h5')\n",
    "\n",
    "    \n",
    "\n",
    "    x = GlobalAveragePooling2D()(base_model.output)\n",
    "    x = Dropout(0.4)(x)\n",
    "    x = Dense(2048, activation=elu)(x)\n",
    "    x = Dropout(0.4)(x)\n",
    "    x = BatchNormalization()(x)\n",
    "    x = Dense(1024, activation=elu)(x)\n",
    "    x = Dropout(0.4)(x)\n",
    "    x = BatchNormalization()(x)\n",
    "    x = Dense(512, activation=elu)(x)\n",
    "    x = Dropout(0.4)(x)\n",
    "    x = BatchNormalization()(x)\n",
    "    output_layer = Dense(n_class, activation='sigmoid', name=\"Output_Layer\")(x)\n",
    "    model_resnet = Model(input_tensor, output_layer)\n",
    "\n",
    "    return model_resnet\n",
    "\n",
    "model_resnet = create_resnet(50, 3, 1)"
   ]
  },
  {
   "cell_type": "code",
   "execution_count": 6,
   "metadata": {},
   "outputs": [],
   "source": [
    "train=np.array(train)\n",
    "label=np.array(label)\n",
    "label=label.reshape(label.shape[0],1)"
   ]
  },
  {
   "cell_type": "code",
   "execution_count": 7,
   "metadata": {},
   "outputs": [
    {
     "name": "stderr",
     "output_type": "stream",
     "text": [
      "/opt/conda/lib/python3.6/site-packages/keras/callbacks.py:511: RuntimeWarning: EarlyStopping mode <built-in function max> is unknown, fallback to auto mode.\n",
      "  RuntimeWarning)\n",
      "/opt/conda/lib/python3.6/site-packages/keras/callbacks.py:407: RuntimeWarning: ModelCheckpoint mode <built-in function max> is unknown, fallback to auto mode.\n",
      "  RuntimeWarning)\n"
     ]
    }
   ],
   "source": [
    "es=EarlyStopping(monitor='val_acc',mode=max,verbose=1,patience=3)\n",
    "mc=ModelCheckpoint('best_model.h5',monitor='val_acc',mode=max,verbose=1,save_best_only=True)"
   ]
  },
  {
   "cell_type": "code",
   "execution_count": 8,
   "metadata": {},
   "outputs": [
    {
     "data": {
      "text/plain": [
       "365"
      ]
     },
     "execution_count": 8,
     "metadata": {},
     "output_type": "execute_result"
    }
   ],
   "source": [
    "lr = 1e-3\n",
    "optimizer = SGD(lr=lr, decay=1e-6, momentum=0.9, nesterov=True) # Adam(lr=lr, decay=0.01) \n",
    "model_resnet.compile(optimizer=optimizer, loss=keras.losses.binary_crossentropy, metrics=['accuracy'])\n",
    "# model.summary()\n",
    "gc.collect()"
   ]
  },
  {
   "cell_type": "code",
   "execution_count": 9,
   "metadata": {},
   "outputs": [
    {
     "name": "stdout",
     "output_type": "stream",
     "text": [
      "Train on 12100 samples, validate on 6516 samples\n",
      "Epoch 1/10\n",
      "12100/12100 [==============================] - 100s 8ms/step - loss: 0.5728 - acc: 0.7191 - val_loss: 0.7745 - val_acc: 0.5641\n",
      "\n",
      "Epoch 00001: val_acc improved from -inf to 0.56415, saving model to best_model.h5\n",
      "Epoch 2/10\n",
      "12100/12100 [==============================] - 86s 7ms/step - loss: 0.4547 - acc: 0.7821 - val_loss: 0.7265 - val_acc: 0.6165\n",
      "\n",
      "Epoch 00002: val_acc improved from 0.56415 to 0.61648, saving model to best_model.h5\n",
      "Epoch 3/10\n",
      "12100/12100 [==============================] - 86s 7ms/step - loss: 0.4097 - acc: 0.8140 - val_loss: 0.6047 - val_acc: 0.6908\n",
      "\n",
      "Epoch 00003: val_acc improved from 0.61648 to 0.69076, saving model to best_model.h5\n",
      "Epoch 4/10\n",
      "12100/12100 [==============================] - 86s 7ms/step - loss: 0.3687 - acc: 0.8343 - val_loss: 0.5827 - val_acc: 0.7152\n",
      "\n",
      "Epoch 00004: val_acc improved from 0.69076 to 0.71516, saving model to best_model.h5\n",
      "Epoch 5/10\n",
      "10940/12100 [==========================>...] - ETA: 7s - loss: 0.3148 - acc: 0.8676"
     ]
    }
   ],
   "source": [
    "history=model_resnet.fit(train,label,epochs=10,batch_size=10,verbose=1,validation_split=0.35,shuffle=True,callbacks=[es,mc])"
   ]
  },
  {
   "cell_type": "code",
   "execution_count": 10,
   "metadata": {},
   "outputs": [],
   "source": [
    "model=keras.models.load_model('best_model.h5')"
   ]
  },
  {
   "cell_type": "code",
   "execution_count": 11,
   "metadata": {},
   "outputs": [
    {
     "data": {
      "image/png": "[encoded data removed]",
      "text/plain": [
       "<Figure size 432x288 with 1 Axes>"
      ]
     },
     "metadata": {
      "needs_background": "light"
     },
     "output_type": "display_data"
    }
   ],
   "source": [
    "accu = history.history['acc']\n",
    "val_acc = history.history['val_acc']\n",
    "\n",
    "plt.plot(accu, label=\"Accuracy\")\n",
    "plt.plot(val_acc)\n",
    "plt.xlabel(\"Epoch\")\n",
    "plt.ylabel(\"Accuracy\")\n",
    "plt.legend(['Acc', 'val_acc'])\n",
    "plt.plot(np.argmax(history.history[\"val_acc\"]), np.max(history.history[\"val_acc\"]), marker=\"x\", color=\"r\",\n",
    "         label=\"best model\")\n",
    "plt.show()"
   ]
  },
  {
   "cell_type": "code",
   "execution_count": 12,
   "metadata": {},
   "outputs": [
    {
     "data": {
      "image/png": "[encoded data removed]",
      "text/plain": [
       "<Figure size 576x576 with 1 Axes>"
      ]
     },
     "metadata": {
      "needs_background": "light"
     },
     "output_type": "display_data"
    }
   ],
   "source": [
    "plt.figure(figsize=(8, 8))\n",
    "plt.title(\"Learning curve\")\n",
    "plt.plot(history.history[\"loss\"], label=\"loss\")\n",
    "plt.plot(history.history[\"val_loss\"], label=\"val_loss\")\n",
    "plt.plot(np.argmin(history.history[\"val_loss\"]), np.min(history.history[\"val_loss\"]), marker=\"x\", color=\"r\",\n",
    "         label=\"best model\")\n",
    "plt.xlabel(\"Epochs\")\n",
    "plt.ylabel(\"Binary CrossEntropy\")\n",
    "plt.legend();"
   ]
  },
  {
   "cell_type": "code",
   "execution_count": 13,
   "metadata": {},
   "outputs": [
    {
     "name": "stdout",
     "output_type": "stream",
     "text": [
      "Accuracy:  80.76\n"
     ]
    }
   ],
   "source": [
    "test=np.array(test)\n",
    "\n",
    "predict=model.predict(test)\n",
    "predict=np.squeeze(predict,axis=1)\n",
    "for i in range(predict.shape[0]):\n",
    "    if(predict[i]<0.5):\n",
    "        predict[i]=0\n",
    "    else:\n",
    "        predict[i]=1\n",
    "\n",
    "\n",
    "label2=np.array(label2)\n",
    "print(\"Accuracy: \",round(accuracy_score(predict,label2)*100,2))\n"
   ]
  },
  {
   "cell_type": "code",
   "execution_count": 14,
   "metadata": {},
   "outputs": [],
   "source": [
    "model.save('besttt_model.h5')"
   ]
  }
 ],
 "metadata": {
  "kernelspec": {
   "display_name": "Python 3",
   "language": "python",
   "name": "python3"
  },
  "language_info": {
   "codemirror_mode": {
    "name": "ipython",
    "version": 3
   },
   "file_extension": ".py",
   "mimetype": "text/x-python",
   "name": "python",
   "nbconvert_exporter": "python",
   "pygments_lexer": "ipython3",
   "version": "3.6.6"
  }
 },
 "nbformat": 4,
 "nbformat_minor": 1
}
